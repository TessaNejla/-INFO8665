{
 "cells": [
  {
   "cell_type": "code",
   "execution_count": 1,
   "metadata": {},
   "outputs": [
    {
     "name": "stdout",
     "output_type": "stream",
     "text": [
      "trial: 0\tsucc_fail: [[0, 0], [0, 0], [1, 0]]\n",
      "trial: 10\tsucc_fail: [[0, 1], [5, 3], [1, 1]]\n",
      "trial: 20\tsucc_fail: [[0, 2], [8, 3], [4, 4]]\n",
      "trial: 30\tsucc_fail: [[0, 2], [15, 6], [4, 4]]\n",
      "trial: 40\tsucc_fail: [[0, 3], [21, 7], [6, 4]]\n",
      "trial: 50\tsucc_fail: [[0, 3], [25, 12], [7, 4]]\n",
      "trial: 60\tsucc_fail: [[0, 3], [30, 14], [9, 5]]\n",
      "trial: 70\tsucc_fail: [[0, 3], [35, 16], [9, 8]]\n",
      "trial: 80\tsucc_fail: [[0, 3], [41, 19], [10, 8]]\n",
      "trial: 90\tsucc_fail: [[0, 3], [49, 20], [11, 8]]\n",
      "trial: 100\tsucc_fail: [[0, 3], [57, 22], [11, 8]]\n"
     ]
    }
   ],
   "source": [
    "import numpy as np\n",
    "import matplotlib.pyplot as plt\n",
    "\n",
    "# True payout % (probabilities of success) of each arm\n",
    "actual_prob = [0.1, 0.7, 0.5]  # hidden variables in reality\n",
    "\n",
    "# Counts of success and failure of each arm\n",
    "succ_fail = [[0,0], [0,0], [0,0]]  # each sub-list contains [num of success, num of failure]\n",
    "\n",
    "for trial in range(101):\n",
    "    # Sample a data point (thompson sampling) from all arms' Beta distrib\n",
    "    samples = [np.random.beta(s+1, f+1) for s, f in succ_fail]  # add 1 because can't pass 0\n",
    "    \n",
    "    # Pick the arm with highest sampled estimate\n",
    "    best_arm = np.argmax(samples)\n",
    "    \n",
    "    # Play with best arm\n",
    "    # since each arm is modelled as bernoulli variable, to sample from bernoulli distribution is same as \n",
    "    # sampling a uniform distrib variable & comparing with p (payout), if its less than p, then Success else Failure\n",
    "    if np.random.uniform() < actual_prob[best_arm]:  \n",
    "        # if we win with this arm\n",
    "        succ_fail[best_arm][0] += 1 \n",
    "    else:\n",
    "        # if we lose with this arm\n",
    "        succ_fail[best_arm][1] += 1\n",
    "\n",
    "    # logging\n",
    "    if trial % 10 == 0: \n",
    "        print(f\"trial: {trial}\\tsucc_fail: {succ_fail}\")"
   ]
  }
 ],
 "metadata": {
  "kernelspec": {
   "display_name": "tensorflow_cpu",
   "language": "python",
   "name": "python3"
  },
  "language_info": {
   "codemirror_mode": {
    "name": "ipython",
    "version": 3
   },
   "file_extension": ".py",
   "mimetype": "text/x-python",
   "name": "python",
   "nbconvert_exporter": "python",
   "pygments_lexer": "ipython3",
   "version": "3.11.7"
  }
 },
 "nbformat": 4,
 "nbformat_minor": 2
}
